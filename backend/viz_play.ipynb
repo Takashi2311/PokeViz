{
 "cells": [
  {
   "cell_type": "code",
   "execution_count": null,
   "metadata": {},
   "outputs": [],
   "source": [
    "import pandas as pd\n",
    "import matplotlib.pyplot as plt"
   ]
  },
  {
   "cell_type": "code",
   "execution_count": null,
   "metadata": {},
   "outputs": [],
   "source": [
    "df = pd.read_json('backend/phonodex_data.json')\n",
    "df = df.sort_values(by='generation_num')"
   ]
  },
  {
   "cell_type": "code",
   "execution_count": null,
   "metadata": {},
   "outputs": [],
   "source": [
    "avg_stats = df.groupby('generation_num')['base_stat_total'].mean()"
   ]
  },
  {
   "cell_type": "code",
   "execution_count": null,
   "metadata": {},
   "outputs": [],
   "source": [
    "plt.figure(figsize=(10, 6))\n",
    "avg_stats.plot(kind='bar')\n",
    "plt.title('Average Base Stat Total by Pokémon Generation')\n",
    "plt.xlabel('Generation')\n",
    "plt.ylabel('Average Base Stat Total')\n",
    "plt.xticks(rotation=0)\n",
    "plt.grid(axis='y')\n",
    "plt.tight_layout()\n",
    "plt.show()"
   ]
  },
  {
   "cell_type": "code",
   "execution_count": null,
   "metadata": {},
   "outputs": [],
   "source": [
    "plt.figure(figsize=(10, 6))\n",
    "df.groupby('evolution_stage')['heaviness_score'].mean().plot(kind='bar')\n",
    "plt.title('Average Heaviness Score by Evolution Stage')\n",
    "plt.xlabel('Evolution Stage')\n",
    "plt.ylabel('Average Heaviness Score')\n",
    "plt.xticks(rotation=0)\n",
    "plt.grid(axis='y')\n",
    "plt.tight_layout()\n",
    "plt.show()"
   ]
  },
  {
   "cell_type": "code",
   "execution_count": null,
   "metadata": {},
   "outputs": [],
   "source": [
    "plt.figure(figsize=(10, 6))\n",
    "plt.scatter(df['heaviness_score'], df['base_stat_total'], alpha=0.5)\n",
    "plt.title('Heaviness Score vs. Base Stat Total')\n",
    "plt.xlabel('Heaviness Score')\n",
    "plt.ylabel('Base Stat Total')\n",
    "plt.grid(True)\n",
    "plt.tight_layout()\n",
    "plt.show()"
   ]
  }
 ],
 "metadata": {
  "language_info": {
   "name": "python"
  },
  "orig_nbformat": 4
 },
 "nbformat": 4,
 "nbformat_minor": 2
}
